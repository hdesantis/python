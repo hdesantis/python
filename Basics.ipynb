{
 "cells": [
  {
   "cell_type": "markdown",
   "metadata": {
    "collapsed": true
   },
   "source": [
    "# Hacker News Research Project\n",
    "\n",
    "In this project, we will be analyzing Hacker News exports and evaluating \"Ask HN\" vs \"Show HN\" posts. We will look to answer:\n",
    "\n",
    "- Which posts are more popular\n",
    "- If there is a certain time that gets more comments on average"
   ]
  },
  {
   "cell_type": "code",
   "execution_count": 1,
   "metadata": {
    "collapsed": false
   },
   "outputs": [
    {
     "name": "stdout",
     "output_type": "stream",
     "text": [
      "[['12224879', 'Interactive Dynamic Video', 'http://www.interactivedynamicvideo.com/', '386', '52', 'ne0phyte', '8/4/2016 11:52']]\n"
     ]
    }
   ],
   "source": [
    "from csv import reader\n",
    "file = open('hacker_news.csv')\n",
    "readfile = reader(file)\n",
    "hn = list(readfile)\n",
    "headers = hn[:1]\n",
    "hn = hn[1:]\n",
    "\n",
    "print(hn[:1])"
   ]
  },
  {
   "cell_type": "code",
   "execution_count": 2,
   "metadata": {
    "collapsed": false
   },
   "outputs": [
    {
     "name": "stdout",
     "output_type": "stream",
     "text": [
      "Ask Posts:  1744\n",
      "Show Posts:  1162\n",
      "Other Posts:  17194\n"
     ]
    }
   ],
   "source": [
    "ask_posts = []\n",
    "show_posts = []\n",
    "other_posts = []\n",
    "\n",
    "for row in hn:\n",
    "    title = row[1]\n",
    "    if title.lower().startswith('ask hn'):\n",
    "        ask_posts.append(row)\n",
    "    elif title.lower().startswith('show hn'):\n",
    "        show_posts.append(row)\n",
    "    else:\n",
    "        other_posts.append(row)\n",
    "        \n",
    "print(\"Ask Posts: \", len(ask_posts))\n",
    "print(\"Show Posts: \", len(show_posts))\n",
    "print(\"Other Posts: \", len(other_posts))"
   ]
  },
  {
   "cell_type": "code",
   "execution_count": 3,
   "metadata": {
    "collapsed": false
   },
   "outputs": [
    {
     "name": "stdout",
     "output_type": "stream",
     "text": [
      "Average Ask Comments:  14.038417431192661\n",
      "Average Show Comments:  10.31669535283993\n"
     ]
    }
   ],
   "source": [
    "total_ask_comments = 0\n",
    "total_show_comments = 0\n",
    "\n",
    "for row in ask_posts:\n",
    "    num_comments = row[4]\n",
    "    num_comments = int(num_comments)\n",
    "    total_ask_comments += num_comments\n",
    "    \n",
    "avg_ask_comments = (total_ask_comments)/len(ask_posts)\n",
    "print(\"Average Ask Comments: \",avg_ask_comments)\n",
    "\n",
    "for row in show_posts:\n",
    "    num_comments = row[4]\n",
    "    num_comments = int(num_comments)\n",
    "    total_show_comments += num_comments\n",
    "    \n",
    "avg_show_comments = (total_show_comments) / len(show_posts)\n",
    "print(\"Average Show Comments: \", avg_show_comments)\n",
    "    \n"
   ]
  },
  {
   "cell_type": "markdown",
   "metadata": {},
   "source": [
    "# Conclusion:\n",
    "\n",
    "Ask posts are far more popular then Show posts (50% more than Show) and also have a higher average of comments per post. Ask posts have 14 comments per post on average while Show posts have 10."
   ]
  },
  {
   "cell_type": "code",
   "execution_count": 4,
   "metadata": {
    "collapsed": false
   },
   "outputs": [
    {
     "name": "stdout",
     "output_type": "stream",
     "text": [
      "[['id', 'title', 'url', 'num_points', 'num_comments', 'author', 'created_at']]\n"
     ]
    }
   ],
   "source": [
    "print(headers)"
   ]
  },
  {
   "cell_type": "code",
   "execution_count": 5,
   "metadata": {
    "collapsed": false,
    "scrolled": false
   },
   "outputs": [
    {
     "name": "stdout",
     "output_type": "stream",
     "text": [
      "['8/16/2016 9:55', 6]\n",
      "{'17': 100, '02': 58, '09': 45, '20': 80, '08': 48, '18': 109, '05': 46, '19': 110, '15': 116, '13': 85, '23': 68, '01': 60, '04': 47, '22': 71, '03': 54, '14': 107, '07': 34, '12': 73, '10': 59, '00': 55, '16': 108, '06': 44, '11': 58, '21': 109}\n",
      "{'17': 1146, '02': 1379, '09': 246, '20': 1721, '08': 488, '18': 1438, '05': 436, '19': 1186, '15': 4477, '13': 1225, '23': 543, '01': 651, '04': 335, '22': 478, '03': 421, '14': 1414, '07': 266, '12': 684, '10': 793, '00': 438, '16': 1798, '06': 397, '11': 640, '21': 1742}\n"
     ]
    }
   ],
   "source": [
    "import datetime as dt\n",
    "\n",
    "result_list = []\n",
    "\n",
    "for row in ask_posts:\n",
    "    created_at = row[6]\n",
    "    comments_by_hour = int(row[4])\n",
    "    each_list = [created_at, comments_by_hour]\n",
    "    result_list.append(each_list)\n",
    "\n",
    "print(result_list[0])\n",
    "    \n",
    "counts_by_hour = {}\n",
    "comments_by_hour = {}\n",
    "\n",
    "for row in result_list:\n",
    "    date_and_time = row[0]\n",
    "    date_and_time = dt.datetime.strptime(date_and_time, \"%m/%d/%Y %H:%M\")\n",
    "    hour = date_and_time.strftime(\"%H\")\n",
    "    date = date_and_time.strftime(\"%m/%d\")\n",
    "    if hour not in counts_by_hour:\n",
    "        counts_by_hour[hour] = 1\n",
    "        comments_by_hour[hour] = 1\n",
    "    else:\n",
    "        counts_by_hour[hour] += 1\n",
    "        comments_by_hour[hour] += row[1]\n",
    "    \n",
    "print(counts_by_hour)\n",
    "print(comments_by_hour)"
   ]
  },
  {
   "cell_type": "code",
   "execution_count": 6,
   "metadata": {
    "collapsed": false
   },
   "outputs": [
    {
     "name": "stdout",
     "output_type": "stream",
     "text": [
      "['17', 11.46]\n",
      "['02', 23.775862068965516]\n",
      "['09', 5.466666666666667]\n",
      "['20', 21.5125]\n",
      "['08', 10.166666666666666]\n",
      "['18', 13.192660550458715]\n",
      "['05', 9.478260869565217]\n",
      "['19', 10.781818181818181]\n",
      "['15', 38.5948275862069]\n",
      "['13', 14.411764705882353]\n",
      "['23', 7.985294117647059]\n",
      "['01', 10.85]\n",
      "['04', 7.127659574468085]\n",
      "['22', 6.732394366197183]\n",
      "['03', 7.796296296296297]\n",
      "['14', 13.214953271028037]\n",
      "['07', 7.823529411764706]\n",
      "['12', 9.36986301369863]\n",
      "['10', 13.440677966101696]\n",
      "['00', 7.963636363636364]\n",
      "['16', 16.64814814814815]\n",
      "['06', 9.022727272727273]\n",
      "['11', 11.03448275862069]\n",
      "['21', 15.98165137614679]\n"
     ]
    }
   ],
   "source": [
    "avg_by_hour = []\n",
    "\n",
    "for row in counts_by_hour:\n",
    "    avg_by_hour.append([row,(comments_by_hour[row]/counts_by_hour[row])])\n",
    "    print([row,(comments_by_hour[row]/counts_by_hour[row])])\n",
    "    \n"
   ]
  },
  {
   "cell_type": "code",
   "execution_count": 38,
   "metadata": {
    "collapsed": false
   },
   "outputs": [
    {
     "name": "stdout",
     "output_type": "stream",
     "text": [
      "[38.5948275862069, '15']\n",
      "[23.775862068965516, '02']\n",
      "[21.5125, '20']\n",
      "[16.64814814814815, '16']\n",
      "[15.98165137614679, '21']\n",
      "[14.411764705882353, '13']\n",
      "[13.440677966101696, '10']\n",
      "[13.214953271028037, '14']\n",
      "[13.192660550458715, '18']\n",
      "[11.46, '17']\n",
      "[11.03448275862069, '11']\n",
      "[10.85, '01']\n",
      "[10.781818181818181, '19']\n",
      "[10.166666666666666, '08']\n",
      "[9.478260869565217, '05']\n",
      "[9.36986301369863, '12']\n",
      "[9.022727272727273, '06']\n",
      "[7.985294117647059, '23']\n",
      "[7.963636363636364, '00']\n",
      "[7.823529411764706, '07']\n",
      "[7.796296296296297, '03']\n",
      "[7.127659574468085, '04']\n",
      "[6.732394366197183, '22']\n",
      "[5.466666666666667, '09']\n",
      "15:00 :  38.5948275862069  average comments per post.\n",
      "02:00 :  23.775862068965516  average comments per post.\n",
      "20:00 :  21.5125  average comments per post.\n",
      "16:00 :  16.64814814814815  average comments per post.\n",
      "21:00 :  15.98165137614679  average comments per post.\n"
     ]
    }
   ],
   "source": [
    "swap_avg_by_hour = []\n",
    "for row in avg_by_hour:\n",
    "    hour = row[0]\n",
    "    comments = row[1]\n",
    "    swap_avg_by_hour.append([comments, hour])\n",
    "\n",
    "sorted_swap = sorted(swap_avg_by_hour, reverse=True)\n",
    "for row in sorted_swap:\n",
    "    print(row)\n",
    "\n",
    "for row in sorted_swap[:5]:\n",
    "    comments = row[0]\n",
    "    hour = row[1]\n",
    "    hour = dt.datetime.strptime(hour, \"%H\")\n",
    "    hour = hour.strftime('%H:%M')\n",
    "    result = \"{}: {:.2f} average comments per post.\"\n",
    "    print(hour,\": \", comments, \" average comments per post.\")\n"
   ]
  },
  {
   "cell_type": "markdown",
   "metadata": {
    "collapsed": true
   },
   "source": [
    "# Conclusion\n",
    "\n",
    "Postings from 3pm are the most likely to get comments. This is the highest tier by far, beating the 2nd most popular time (2am) by 65%.\n",
    "\n",
    "4 of the 5 most popular times to post are in the late afternoon to early evening (3pm - 9pm).\n",
    "\n",
    "2am appears to be an anomaly, as this is the 2nd most popular time for comments."
   ]
  },
  {
   "cell_type": "code",
   "execution_count": null,
   "metadata": {
    "collapsed": true
   },
   "outputs": [],
   "source": []
  }
 ],
 "metadata": {
  "kernelspec": {
   "display_name": "Python 3",
   "language": "python",
   "name": "python3"
  },
  "language_info": {
   "codemirror_mode": {
    "name": "ipython",
    "version": 3
   },
   "file_extension": ".py",
   "mimetype": "text/x-python",
   "name": "python",
   "nbconvert_exporter": "python",
   "pygments_lexer": "ipython3",
   "version": "3.4.3"
  }
 },
 "nbformat": 4,
 "nbformat_minor": 2
}
