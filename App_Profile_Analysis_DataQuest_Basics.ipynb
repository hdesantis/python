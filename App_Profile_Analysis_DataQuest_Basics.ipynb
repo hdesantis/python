{
 "cells": [
  {
   "cell_type": "markdown",
   "metadata": {},
   "source": [
    "## App Installation Research Project\n",
    "\n",
    "We only build apps that are free to download and install. Our revenue for any given app is mostly influenced by the number of users who use our app. The more users that see and engage with the ads, the better. __Our goal is to understand what type of iOS and Play apps are likely to attract more users so we can lean into these app types in the future.__"
   ]
  },
  {
   "cell_type": "code",
   "execution_count": 1,
   "metadata": {
    "collapsed": true
   },
   "outputs": [],
   "source": [
    "def explore_data(dataset, start, end, rows_and_columns=False):\n",
    "    dataset_slice = dataset[start:end]    \n",
    "    for row in dataset_slice:\n",
    "        print(row)\n",
    "        print('\\n') # adds a new (empty) line after each row\n",
    "\n",
    "    if rows_and_columns:\n",
    "        print('Number of rows:', len(dataset))\n",
    "        print('Number of columns:', len(dataset[0]))"
   ]
  },
  {
   "cell_type": "code",
   "execution_count": 2,
   "metadata": {
    "collapsed": true
   },
   "outputs": [],
   "source": [
    "open_file = open('AppleStore.csv', encoding='utf8')\n",
    "from csv import reader\n",
    "read_file = reader(open_file)\n",
    "ios = list(read_file)\n",
    "ios_header = list(ios)[0]\n",
    "ios_list = list(ios)[1:]\n",
    "\n",
    "open_file = open('googleplaystore.csv')\n",
    "read_file = reader(open_file)\n",
    "play = list(read_file)\n",
    "play_header = list(play)[0]\n",
    "play_list = list(play)[1:]"
   ]
  },
  {
   "cell_type": "code",
   "execution_count": 3,
   "metadata": {
    "collapsed": false
   },
   "outputs": [
    {
     "name": "stdout",
     "output_type": "stream",
     "text": [
      "['Photo Editor & Candy Camera & Grid & ScrapBook', 'ART_AND_DESIGN', '4.1', '159', '19M', '10,000+', 'Free', '0', 'Everyone', 'Art & Design', 'January 7, 2018', '1.0.0', '4.0.3 and up']\n",
      "\n",
      "\n",
      "['Coloring book moana', 'ART_AND_DESIGN', '3.9', '967', '14M', '500,000+', 'Free', '0', 'Everyone', 'Art & Design;Pretend Play', 'January 15, 2018', '2.0.0', '4.0.3 and up']\n",
      "\n",
      "\n",
      "['U Launcher Lite – FREE Live Cool Themes, Hide Apps', 'ART_AND_DESIGN', '4.7', '87510', '8.7M', '5,000,000+', 'Free', '0', 'Everyone', 'Art & Design', 'August 1, 2018', '1.2.4', '4.0.3 and up']\n",
      "\n",
      "\n",
      "['Sketch - Draw & Paint', 'ART_AND_DESIGN', '4.5', '215644', '25M', '50,000,000+', 'Free', '0', 'Teen', 'Art & Design', 'June 8, 2018', 'Varies with device', '4.2 and up']\n",
      "\n",
      "\n",
      "['Pixel Draw - Number Art Coloring Book', 'ART_AND_DESIGN', '4.3', '967', '2.8M', '100,000+', 'Free', '0', 'Everyone', 'Art & Design;Creativity', 'June 20, 2018', '1.1', '4.4 and up']\n",
      "\n",
      "\n",
      "['Paper flowers instructions', 'ART_AND_DESIGN', '4.4', '167', '5.6M', '50,000+', 'Free', '0', 'Everyone', 'Art & Design', 'March 26, 2017', '1.0', '2.3 and up']\n",
      "\n",
      "\n",
      "['Smoke Effect Photo Maker - Smoke Editor', 'ART_AND_DESIGN', '3.8', '178', '19M', '50,000+', 'Free', '0', 'Everyone', 'Art & Design', 'April 26, 2018', '1.1', '4.0.3 and up']\n",
      "\n",
      "\n",
      "['Infinite Painter', 'ART_AND_DESIGN', '4.1', '36815', '29M', '1,000,000+', 'Free', '0', 'Everyone', 'Art & Design', 'June 14, 2018', '6.1.61.1', '4.2 and up']\n",
      "\n",
      "\n",
      "['Garden Coloring Book', 'ART_AND_DESIGN', '4.4', '13791', '33M', '1,000,000+', 'Free', '0', 'Everyone', 'Art & Design', 'September 20, 2017', '2.9.2', '3.0 and up']\n",
      "\n",
      "\n",
      "Number of rows: 10842\n",
      "Number of columns: 13\n"
     ]
    }
   ],
   "source": [
    "explore_data(play,1,10,rows_and_columns = True)"
   ]
  },
  {
   "cell_type": "code",
   "execution_count": 4,
   "metadata": {
    "collapsed": false
   },
   "outputs": [
    {
     "name": "stdout",
     "output_type": "stream",
     "text": [
      "10841\n",
      "7197\n"
     ]
    }
   ],
   "source": [
    "print(len(play_list))\n",
    "print(len(ios_list))"
   ]
  },
  {
   "cell_type": "code",
   "execution_count": 5,
   "metadata": {
    "collapsed": false
   },
   "outputs": [
    {
     "name": "stdout",
     "output_type": "stream",
     "text": [
      "['id', 'track_name', 'size_bytes', 'currency', 'price', 'rating_count_tot', 'rating_count_ver', 'user_rating', 'user_rating_ver', 'ver', 'cont_rating', 'prime_genre', 'sup_devices.num', 'ipadSc_urls.num', 'lang.num', 'vpp_lic']\n"
     ]
    }
   ],
   "source": [
    "print(ios_header)"
   ]
  },
  {
   "cell_type": "code",
   "execution_count": 6,
   "metadata": {
    "collapsed": false
   },
   "outputs": [
    {
     "name": "stdout",
     "output_type": "stream",
     "text": [
      "['Life Made WI-Fi Touchscreen Photo Frame', '1.9', '19', '3.0M', '1,000+', 'Free', '0', 'Everyone', '', 'February 11, 2018', '1.0.19', '4.0 and up']\n"
     ]
    }
   ],
   "source": [
    "print(play_list[10472])"
   ]
  },
  {
   "cell_type": "code",
   "execution_count": 7,
   "metadata": {
    "collapsed": false
   },
   "outputs": [
    {
     "name": "stdout",
     "output_type": "stream",
     "text": [
      "['FBReader: Favorite Book Reader', 'BOOKS_AND_REFERENCE', '4.5', '203130', 'Varies with device', '10,000,000+', 'Free', '0', 'Everyone', 'Books & Reference', 'June 28, 2018', 'Varies with device', 'Varies with device']\n"
     ]
    }
   ],
   "source": [
    "print(play_list[149])"
   ]
  },
  {
   "cell_type": "code",
   "execution_count": 8,
   "metadata": {
    "collapsed": false
   },
   "outputs": [
    {
     "name": "stdout",
     "output_type": "stream",
     "text": [
      "['Xposed Wi-Fi-Pwd', 'PERSONALIZATION', '3.5', '1042', '404k', '100,000+', 'Free', '0', 'Everyone', 'Personalization', 'August 5, 2014', '3.0.0', '4.0.3 and up']\n"
     ]
    }
   ],
   "source": [
    "print(play[10472])"
   ]
  },
  {
   "cell_type": "code",
   "execution_count": 9,
   "metadata": {
    "collapsed": true
   },
   "outputs": [],
   "source": [
    "del [play[10472]]"
   ]
  },
  {
   "cell_type": "code",
   "execution_count": 10,
   "metadata": {
    "collapsed": false
   },
   "outputs": [
    {
     "name": "stdout",
     "output_type": "stream",
     "text": [
      "['FBReader: Favorite Book Reader', 'BOOKS_AND_REFERENCE', '4.5', '203130', 'Varies with device', '10,000,000+', 'Free', '0', 'Everyone', 'Books & Reference', 'June 28, 2018', 'Varies with device', 'Varies with device']\n"
     ]
    }
   ],
   "source": [
    "print(play_list[149])"
   ]
  },
  {
   "cell_type": "code",
   "execution_count": 11,
   "metadata": {
    "collapsed": false
   },
   "outputs": [
    {
     "name": "stdout",
     "output_type": "stream",
     "text": [
      "['Life Made WI-Fi Touchscreen Photo Frame', '1.9', '19', '3.0M', '1,000+', 'Free', '0', 'Everyone', '', 'February 11, 2018', '1.0.19', '4.0 and up']\n"
     ]
    }
   ],
   "source": [
    "print(play_list[10472])"
   ]
  },
  {
   "cell_type": "markdown",
   "metadata": {},
   "source": [
    "## REMOVING DUPLICATES\n",
    "\n",
    "\n",
    "The list above has duplicates. Here is an example of how Slack has been listed thrice and Facebook listed twice:\n",
    "\n",
    "We have counted 1181 duplicate values. We will not remove these randomly, but rather we will remove all but the very latest app entry (as the latest one will have the most up to date reivew info). We will use a loop to identify duplicates and then remove them."
   ]
  },
  {
   "cell_type": "code",
   "execution_count": 12,
   "metadata": {
    "collapsed": false
   },
   "outputs": [
    {
     "name": "stdout",
     "output_type": "stream",
     "text": [
      "['Facebook', 'SOCIAL', '4.1', '78158306', 'Varies with device', '1,000,000,000+', 'Free', '0', 'Teen', 'Social', 'August 3, 2018', 'Varies with device', 'Varies with device']\n",
      "['Facebook', 'SOCIAL', '4.1', '78128208', 'Varies with device', '1,000,000,000+', 'Free', '0', 'Teen', 'Social', 'August 3, 2018', 'Varies with device', 'Varies with device']\n"
     ]
    }
   ],
   "source": [
    "for app in play_list:\n",
    "    name = app[0]\n",
    "    if name == 'Facebook':\n",
    "        print(app)"
   ]
  },
  {
   "cell_type": "code",
   "execution_count": 13,
   "metadata": {
    "collapsed": false
   },
   "outputs": [
    {
     "name": "stdout",
     "output_type": "stream",
     "text": [
      "['Slack', 'BUSINESS', '4.4', '51507', 'Varies with device', '5,000,000+', 'Free', '0', 'Everyone', 'Business', 'August 2, 2018', 'Varies with device', 'Varies with device']\n",
      "['Slack', 'BUSINESS', '4.4', '51507', 'Varies with device', '5,000,000+', 'Free', '0', 'Everyone', 'Business', 'August 2, 2018', 'Varies with device', 'Varies with device']\n",
      "['Slack', 'BUSINESS', '4.4', '51510', 'Varies with device', '5,000,000+', 'Free', '0', 'Everyone', 'Business', 'August 2, 2018', 'Varies with device', 'Varies with device']\n"
     ]
    }
   ],
   "source": [
    "for app in play:\n",
    "    name = app[0]\n",
    "    if name == 'Slack':\n",
    "        print(app)"
   ]
  },
  {
   "cell_type": "code",
   "execution_count": 14,
   "metadata": {
    "collapsed": false
   },
   "outputs": [
    {
     "name": "stdout",
     "output_type": "stream",
     "text": [
      "Dups:  1181\n",
      "Uniques:  9660\n"
     ]
    }
   ],
   "source": [
    "unique_apps = []\n",
    "duplicate_apps = []\n",
    "\n",
    "for app in play:\n",
    "    name = app[0]\n",
    "    if name in unique_apps:\n",
    "        duplicate_apps.append(name)\n",
    "    else:\n",
    "        unique_apps.append(name)\n",
    "\n",
    "print('Dups: ', len(duplicate_apps))\n",
    "print('Uniques: ', len(unique_apps))"
   ]
  },
  {
   "cell_type": "code",
   "execution_count": 15,
   "metadata": {
    "collapsed": false
   },
   "outputs": [
    {
     "name": "stdout",
     "output_type": "stream",
     "text": [
      "['Quick PDF Scanner + OCR FREE', 'Box', 'Google My Business', 'ZOOM Cloud Meetings', 'join.me - Simple Meetings', 'Box', 'Zenefits', 'Google Ads', 'Google My Business', 'Slack']\n"
     ]
    }
   ],
   "source": [
    "print(duplicate_apps[:10])"
   ]
  },
  {
   "cell_type": "code",
   "execution_count": 16,
   "metadata": {
    "collapsed": false
   },
   "outputs": [
    {
     "name": "stdout",
     "output_type": "stream",
     "text": [
      "9660\n"
     ]
    }
   ],
   "source": [
    "print(len(play) - len(duplicate_apps))"
   ]
  },
  {
   "cell_type": "code",
   "execution_count": 17,
   "metadata": {
    "collapsed": false
   },
   "outputs": [],
   "source": [
    "del(play[10473])"
   ]
  },
  {
   "cell_type": "code",
   "execution_count": 18,
   "metadata": {
    "collapsed": false
   },
   "outputs": [
    {
     "name": "stdout",
     "output_type": "stream",
     "text": [
      "['Life Made WI-Fi Touchscreen Photo Frame', '1.9', '19', '3.0M', '1,000+', 'Free', '0', 'Everyone', '', 'February 11, 2018', '1.0.19', '4.0 and up']\n"
     ]
    }
   ],
   "source": [
    "for app in play_list:\n",
    "    name = app[0]\n",
    "    n_reviews = app[3]\n",
    "    if '3.0M' in n_reviews or 'Life Made WI-Fi Touchscreen Photo Frame' in name:\n",
    "        print(app)"
   ]
  },
  {
   "cell_type": "code",
   "execution_count": 19,
   "metadata": {
    "collapsed": false
   },
   "outputs": [],
   "source": [
    "del(play_list[10472])"
   ]
  },
  {
   "cell_type": "code",
   "execution_count": 20,
   "metadata": {
    "collapsed": true
   },
   "outputs": [],
   "source": [
    "reviews_max = { }\n",
    "\n",
    "for app in play_list:\n",
    "    name = app[0]\n",
    "    n_reviews = float(app[3])\n",
    "    if name in reviews_max and reviews_max[name] < n_reviews:\n",
    "        reviews_max[name] = n_reviews\n",
    "    if name not in reviews_max:\n",
    "        reviews_max[name] = n_reviews"
   ]
  },
  {
   "cell_type": "code",
   "execution_count": 21,
   "metadata": {
    "collapsed": false
   },
   "outputs": [],
   "source": [
    "android_clean = []\n",
    "already_added = []\n",
    "\n",
    "for app in play_list:\n",
    "    name = app[0]\n",
    "    n_reviews = float(app[3])\n",
    "    if n_reviews == reviews_max[name] and name not in already_added:\n",
    "        android_clean.append(app)\n",
    "        already_added.append(name)"
   ]
  },
  {
   "cell_type": "markdown",
   "metadata": {},
   "source": [
    "## Removing Non-English Apps"
   ]
  },
  {
   "cell_type": "code",
   "execution_count": 22,
   "metadata": {
    "collapsed": false
   },
   "outputs": [],
   "source": [
    "def is_english (string):\n",
    "    non_asci = 0\n",
    "    for char in string:\n",
    "        if ord(char) > 127:\n",
    "            non_asci += 1\n",
    "    if non_asci < 3:\n",
    "        return True\n",
    "    else: \n",
    "        return False\n",
    "    \n"
   ]
  },
  {
   "cell_type": "code",
   "execution_count": 23,
   "metadata": {
    "collapsed": false
   },
   "outputs": [
    {
     "data": {
      "text/plain": [
       "True"
      ]
     },
     "execution_count": 23,
     "metadata": {},
     "output_type": "execute_result"
    }
   ],
   "source": [
    "is_english('Docs To Go™ Free Office Suite')"
   ]
  },
  {
   "cell_type": "code",
   "execution_count": 24,
   "metadata": {
    "collapsed": false
   },
   "outputs": [
    {
     "data": {
      "text/plain": [
       "False"
      ]
     },
     "execution_count": 24,
     "metadata": {},
     "output_type": "execute_result"
    }
   ],
   "source": [
    "is_english('爱奇艺PPS -《欢乐颂2》电视剧热播')"
   ]
  },
  {
   "cell_type": "code",
   "execution_count": 25,
   "metadata": {
    "collapsed": false
   },
   "outputs": [
    {
     "name": "stdout",
     "output_type": "stream",
     "text": [
      "['App', 'Category', 'Rating', 'Reviews', 'Size', 'Installs', 'Type', 'Price', 'Content Rating', 'Genres', 'Last Updated', 'Current Ver', 'Android Ver']\n",
      "['id', 'track_name', 'size_bytes', 'currency', 'price', 'rating_count_tot', 'rating_count_ver', 'user_rating', 'user_rating_ver', 'ver', 'cont_rating', 'prime_genre', 'sup_devices.num', 'ipadSc_urls.num', 'lang.num', 'vpp_lic']\n"
     ]
    }
   ],
   "source": [
    "print(play_header)\n",
    "print(ios_header)"
   ]
  },
  {
   "cell_type": "code",
   "execution_count": 26,
   "metadata": {
    "collapsed": false
   },
   "outputs": [
    {
     "name": "stdout",
     "output_type": "stream",
     "text": [
      "7197\n",
      "10840\n"
     ]
    }
   ],
   "source": [
    "print(len(ios_list))\n",
    "print(len(play_list))"
   ]
  },
  {
   "cell_type": "markdown",
   "metadata": {},
   "source": [
    "## Isolating to Free Apps"
   ]
  },
  {
   "cell_type": "code",
   "execution_count": 27,
   "metadata": {
    "collapsed": false
   },
   "outputs": [
    {
     "name": "stdout",
     "output_type": "stream",
     "text": [
      "iOS free:  4056\n",
      "iOS not free :  3141\n",
      "Play free:  10040\n",
      "Play not free :  800\n"
     ]
    }
   ],
   "source": [
    "ios_is_free = []\n",
    "ios_not_free = []\n",
    "\n",
    "for row in ios_list:\n",
    "    ios_price = float(row[4].replace('$',''))\n",
    "    ios_name = row[1]\n",
    "    if ios_price > 0:\n",
    "        ios_not_free.append(ios_name)\n",
    "    else:\n",
    "        ios_is_free.append(ios_name)\n",
    "        \n",
    "print('iOS free: ', len(ios_is_free))\n",
    "print('iOS not free : ', len(ios_not_free))\n",
    "\n",
    "\n",
    "play_is_free = []\n",
    "play_not_free = []\n",
    "\n",
    "\n",
    "for row in play_list:\n",
    "    play_price = float(row[7].replace('$',''))\n",
    "    play_name = row[0]\n",
    "    if play_price > 0:\n",
    "        play_not_free.append(play_name)\n",
    "    else:\n",
    "        play_is_free.append(play_name)\n",
    "        \n",
    "print('Play free: ', len(play_is_free))\n",
    "print('Play not free : ', len(play_not_free))\n",
    "\n"
   ]
  },
  {
   "cell_type": "markdown",
   "metadata": {},
   "source": [
    "# FINDING MOST SUCCESSFUL APPS IN BOTH MARKETS\n",
    "Find top app categories that are successful in both Play and iOS. Our end goal is to add apps to both markets, and we want to see which kinds perform best."
   ]
  },
  {
   "cell_type": "code",
   "execution_count": 42,
   "metadata": {
    "collapsed": false
   },
   "outputs": [],
   "source": [
    "def freq_table(dataset, index):\n",
    "    table = {}\n",
    "    total = 0\n",
    "    for row in dataset:\n",
    "        total += 1\n",
    "        genre = row[index]\n",
    "        if genre in table:\n",
    "            table[genre] += 1\n",
    "        else:\n",
    "            table[genre] = 1\n",
    "\n",
    "    table_percentages = {}\n",
    "    for key in table:\n",
    "        percentage = (table[key] / total) * 100\n",
    "        table_percentages[key] = percentage\n",
    "    \n",
    "    return table_percentages\n",
    "\n",
    "def display_table(dataset, index):\n",
    "    table = freq_table(dataset, index)\n",
    "    table_display = []\n",
    "    for key in table:\n",
    "        key_val_as_tuple = (table[key], key)\n",
    "        table_display.append(key_val_as_tuple)\n",
    "    table_sorted = sorted(table_display, reverse = True)\n",
    "    for entry in table_sorted:\n",
    "        print(entry[1], ':', entry[0])\n"
   ]
  },
  {
   "cell_type": "code",
   "execution_count": 43,
   "metadata": {
    "collapsed": false
   },
   "outputs": [],
   "source": [
    "# ios_table = freq_table(ios_list,11)\n",
    "# play_table = freq_table(play_list,1)"
   ]
  },
  {
   "cell_type": "code",
   "execution_count": 44,
   "metadata": {
    "collapsed": true
   },
   "outputs": [],
   "source": [
    "# def display_table(dataset, index):\n",
    "#     table = freq_table(dataset, index)\n",
    "#     table_display = []\n",
    "#     for key in table:\n",
    "#         key_val_as_tuple = (table[key], key)\n",
    "#         table_display.append(key_val_as_tuple)\n",
    "#     table_sorted = sorted(table_display, reverse = True)\n",
    "#     for entry in table_sorted:\n",
    "#         print(entry[1], ':', entry[0])"
   ]
  },
  {
   "cell_type": "markdown",
   "metadata": {},
   "source": [
    "## What are the most popular iOS apps types?\n",
    "\n",
    "Percentages of each app's DL listed below:"
   ]
  },
  {
   "cell_type": "code",
   "execution_count": 45,
   "metadata": {
    "collapsed": false
   },
   "outputs": [
    {
     "name": "stdout",
     "output_type": "stream",
     "text": [
      "Games : 53.66124774211477\n",
      "Entertainment : 7.433652910935113\n",
      "Education : 6.294289287203002\n",
      "Photo & Video : 4.849242740030569\n",
      "Utilities : 3.4458802278727245\n",
      "Health & Fitness : 2.501042100875365\n",
      "Productivity : 2.473252744198972\n",
      "Social Networking : 2.3204112824788106\n",
      "Lifestyle : 2.0008336807002918\n",
      "Music : 1.9174656106711132\n",
      "Shopping : 1.6951507572599693\n",
      "Sports : 1.5839933305543976\n",
      "Book : 1.5562039738780047\n",
      "Finance : 1.445046547172433\n",
      "Travel : 1.1254689453939142\n",
      "News : 1.0421008753647354\n",
      "Weather : 1.0004168403501459\n",
      "Reference : 0.8892594136445742\n",
      "Food & Drink : 0.8753647353063776\n",
      "Business : 0.7919966652771988\n",
      "Navigation : 0.6391552035570377\n",
      "Medical : 0.31957760177851885\n",
      "Catalogs : 0.1389467833819647\n"
     ]
    }
   ],
   "source": [
    "display_table(ios_list,11)"
   ]
  },
  {
   "cell_type": "markdown",
   "metadata": {},
   "source": [
    "Over half of the the iOS apps are games."
   ]
  },
  {
   "cell_type": "markdown",
   "metadata": {},
   "source": [
    "## What are the most popular types of Play apps?"
   ]
  },
  {
   "cell_type": "code",
   "execution_count": 46,
   "metadata": {
    "collapsed": false
   },
   "outputs": [
    {
     "name": "stdout",
     "output_type": "stream",
     "text": [
      "FAMILY : 18.19188191881919\n",
      "GAME : 10.55350553505535\n",
      "TOOLS : 7.776752767527675\n",
      "MEDICAL : 4.271217712177122\n",
      "BUSINESS : 4.243542435424354\n",
      "PRODUCTIVITY : 3.911439114391144\n",
      "PERSONALIZATION : 3.616236162361624\n",
      "COMMUNICATION : 3.5701107011070112\n",
      "SPORTS : 3.5424354243542435\n",
      "LIFESTYLE : 3.5239852398523985\n",
      "FINANCE : 3.3763837638376386\n",
      "HEALTH_AND_FITNESS : 3.1457564575645756\n",
      "PHOTOGRAPHY : 3.0904059040590406\n",
      "SOCIAL : 2.7214022140221403\n",
      "NEWS_AND_MAGAZINES : 2.61070110701107\n",
      "SHOPPING : 2.3985239852398523\n",
      "TRAVEL_AND_LOCAL : 2.3800738007380073\n",
      "DATING : 2.158671586715867\n",
      "BOOKS_AND_REFERENCE : 2.1309963099630997\n",
      "VIDEO_PLAYERS : 1.6143911439114391\n",
      "EDUCATION : 1.4391143911439115\n",
      "ENTERTAINMENT : 1.3745387453874538\n",
      "MAPS_AND_NAVIGATION : 1.2638376383763839\n",
      "FOOD_AND_DRINK : 1.1715867158671587\n",
      "HOUSE_AND_HOME : 0.8118081180811807\n",
      "LIBRARIES_AND_DEMO : 0.7841328413284132\n",
      "AUTO_AND_VEHICLES : 0.7841328413284132\n",
      "WEATHER : 0.7564575645756457\n",
      "ART_AND_DESIGN : 0.5996309963099631\n",
      "EVENTS : 0.5904059040590406\n",
      "PARENTING : 0.5535055350553505\n",
      "COMICS : 0.5535055350553505\n",
      "BEAUTY : 0.488929889298893\n"
     ]
    }
   ],
   "source": [
    "display_table(play_list,1)"
   ]
  },
  {
   "cell_type": "markdown",
   "metadata": {},
   "source": [
    "More of the Play apps are designed for utility"
   ]
  },
  {
   "cell_type": "code",
   "execution_count": 57,
   "metadata": {
    "collapsed": false
   },
   "outputs": [
    {
     "name": "stdout",
     "output_type": "stream",
     "text": [
      "['App', 'Category', 'Rating', 'Reviews', 'Size', 'Installs', 'Type', 'Price', 'Content Rating', 'Genres', 'Last Updated', 'Current Ver', 'Android Ver']\n"
     ]
    }
   ],
   "source": [
    "print(play_header)"
   ]
  },
  {
   "cell_type": "code",
   "execution_count": 48,
   "metadata": {
    "collapsed": false
   },
   "outputs": [
    {
     "name": "stdout",
     "output_type": "stream",
     "text": [
      "Tools : 7.767527675276753\n",
      "Entertainment : 5.747232472324723\n",
      "Education : 5.064575645756458\n",
      "Medical : 4.271217712177122\n",
      "Business : 4.243542435424354\n",
      "Productivity : 3.911439114391144\n",
      "Sports : 3.671586715867159\n",
      "Personalization : 3.616236162361624\n",
      "Communication : 3.5701107011070112\n",
      "Lifestyle : 3.5147601476014763\n",
      "Finance : 3.3763837638376386\n",
      "Action : 3.367158671586716\n",
      "Health & Fitness : 3.1457564575645756\n",
      "Photography : 3.0904059040590406\n",
      "Social : 2.7214022140221403\n",
      "News & Magazines : 2.61070110701107\n",
      "Shopping : 2.3985239852398523\n",
      "Travel & Local : 2.370848708487085\n",
      "Dating : 2.158671586715867\n",
      "Books & Reference : 2.1309963099630997\n",
      "Arcade : 2.029520295202952\n",
      "Simulation : 1.8450184501845017\n",
      "Casual : 1.7804428044280445\n",
      "Video Players & Editors : 1.595940959409594\n",
      "Puzzle : 1.2915129151291513\n",
      "Maps & Navigation : 1.2638376383763839\n",
      "Food & Drink : 1.1715867158671587\n",
      "Role Playing : 1.0055350553505535\n",
      "Strategy : 0.9870848708487084\n",
      "Racing : 0.904059040590406\n",
      "House & Home : 0.8118081180811807\n",
      "Libraries & Demo : 0.7841328413284132\n",
      "Auto & Vehicles : 0.7841328413284132\n",
      "Weather : 0.7564575645756457\n",
      "Adventure : 0.6918819188191881\n",
      "Events : 0.5904059040590406\n",
      "Comics : 0.544280442804428\n",
      "Art & Design : 0.5350553505535056\n",
      "Beauty : 0.488929889298893\n",
      "Education;Education : 0.46125461254612543\n",
      "Card : 0.44280442804428044\n",
      "Parenting : 0.4243542435424354\n",
      "Board : 0.40590405904059035\n",
      "Educational;Education : 0.37822878228782286\n",
      "Casino : 0.35977859778597787\n",
      "Trivia : 0.3505535055350553\n",
      "Educational : 0.3413284132841329\n",
      "Casual;Pretend Play : 0.2859778597785978\n",
      "Word : 0.2675276752767528\n",
      "Entertainment;Music & Video : 0.24907749077490776\n",
      "Education;Pretend Play : 0.2121771217712177\n",
      "Music : 0.20295202952029517\n",
      "Casual;Action & Adventure : 0.1937269372693727\n",
      "Racing;Action & Adventure : 0.18450184501845018\n",
      "Puzzle;Brain Games : 0.17527675276752766\n",
      "Educational;Pretend Play : 0.17527675276752766\n",
      "Action;Action & Adventure : 0.15682656826568267\n",
      "Arcade;Action & Adventure : 0.14760147601476015\n",
      "Board;Brain Games : 0.13837638376383762\n",
      "Casual;Brain Games : 0.11992619926199262\n",
      "Adventure;Action & Adventure : 0.11992619926199262\n",
      "Simulation;Action & Adventure : 0.10147601476014759\n",
      "Entertainment;Brain Games : 0.07380073800738007\n",
      "Role Playing;Action & Adventure : 0.06457564575645756\n",
      "Parenting;Education : 0.06457564575645756\n",
      "Education;Creativity : 0.06457564575645756\n",
      "Casual;Creativity : 0.06457564575645756\n",
      "Art & Design;Creativity : 0.06457564575645756\n",
      "Parenting;Music & Video : 0.055350553505535055\n",
      "Educational;Brain Games : 0.055350553505535055\n",
      "Education;Action & Adventure : 0.055350553505535055\n",
      "Role Playing;Pretend Play : 0.046125461254612546\n",
      "Puzzle;Action & Adventure : 0.046125461254612546\n",
      "Educational;Creativity : 0.046125461254612546\n",
      "Education;Music & Video : 0.046125461254612546\n",
      "Education;Brain Games : 0.046125461254612546\n",
      "Sports;Action & Adventure : 0.03690036900369004\n",
      "Simulation;Pretend Play : 0.03690036900369004\n",
      "Educational;Action & Adventure : 0.03690036900369004\n",
      "Video Players & Editors;Music & Video : 0.027675276752767528\n",
      "Simulation;Education : 0.027675276752767528\n",
      "Music;Music & Video : 0.027675276752767528\n",
      "Entertainment;Creativity : 0.027675276752767528\n",
      "Entertainment;Action & Adventure : 0.027675276752767528\n",
      "Casual;Education : 0.027675276752767528\n",
      "Board;Action & Adventure : 0.027675276752767528\n",
      "Video Players & Editors;Creativity : 0.01845018450184502\n",
      "Strategy;Action & Adventure : 0.01845018450184502\n",
      "Puzzle;Creativity : 0.01845018450184502\n",
      "Entertainment;Pretend Play : 0.01845018450184502\n",
      "Casual;Music & Video : 0.01845018450184502\n",
      "Card;Action & Adventure : 0.01845018450184502\n",
      "Books & Reference;Education : 0.01845018450184502\n",
      "Art & Design;Pretend Play : 0.01845018450184502\n",
      "Art & Design;Action & Adventure : 0.01845018450184502\n",
      "Adventure;Education : 0.01845018450184502\n",
      "Trivia;Education : 0.00922509225092251\n",
      "Travel & Local;Action & Adventure : 0.00922509225092251\n",
      "Tools;Education : 0.00922509225092251\n",
      "Strategy;Education : 0.00922509225092251\n",
      "Strategy;Creativity : 0.00922509225092251\n",
      "Role Playing;Education : 0.00922509225092251\n",
      "Role Playing;Brain Games : 0.00922509225092251\n",
      "Racing;Pretend Play : 0.00922509225092251\n",
      "Puzzle;Education : 0.00922509225092251\n",
      "Parenting;Brain Games : 0.00922509225092251\n",
      "Music & Audio;Music & Video : 0.00922509225092251\n",
      "Lifestyle;Pretend Play : 0.00922509225092251\n",
      "Lifestyle;Education : 0.00922509225092251\n",
      "Health & Fitness;Education : 0.00922509225092251\n",
      "Health & Fitness;Action & Adventure : 0.00922509225092251\n",
      "Entertainment;Education : 0.00922509225092251\n",
      "Communication;Creativity : 0.00922509225092251\n",
      "Comics;Creativity : 0.00922509225092251\n",
      "Card;Brain Games : 0.00922509225092251\n",
      "Books & Reference;Creativity : 0.00922509225092251\n",
      "Board;Pretend Play : 0.00922509225092251\n",
      "Arcade;Pretend Play : 0.00922509225092251\n",
      "Adventure;Brain Games : 0.00922509225092251\n"
     ]
    }
   ],
   "source": [
    "display_table(play_list,9)"
   ]
  },
  {
   "cell_type": "markdown",
   "metadata": {},
   "source": [
    "Genres has more granularity and has more variety than Category. However, Tools is a top performer on both."
   ]
  },
  {
   "cell_type": "code",
   "execution_count": 49,
   "metadata": {
    "collapsed": false
   },
   "outputs": [
    {
     "name": "stdout",
     "output_type": "stream",
     "text": [
      "['id', 'track_name', 'size_bytes', 'currency', 'price', 'rating_count_tot', 'rating_count_ver', 'user_rating', 'user_rating_ver', 'ver', 'cont_rating', 'prime_genre', 'sup_devices.num', 'ipadSc_urls.num', 'lang.num', 'vpp_lic']\n"
     ]
    }
   ],
   "source": [
    "print(ios_header)"
   ]
  },
  {
   "cell_type": "code",
   "execution_count": 50,
   "metadata": {
    "collapsed": false
   },
   "outputs": [
    {
     "data": {
      "text/plain": [
       "{'Book': 1.5562039738780047,\n",
       " 'Business': 0.7919966652771988,\n",
       " 'Catalogs': 0.1389467833819647,\n",
       " 'Education': 6.294289287203002,\n",
       " 'Entertainment': 7.433652910935113,\n",
       " 'Finance': 1.445046547172433,\n",
       " 'Food & Drink': 0.8753647353063776,\n",
       " 'Games': 53.66124774211477,\n",
       " 'Health & Fitness': 2.501042100875365,\n",
       " 'Lifestyle': 2.0008336807002918,\n",
       " 'Medical': 0.31957760177851885,\n",
       " 'Music': 1.9174656106711132,\n",
       " 'Navigation': 0.6391552035570377,\n",
       " 'News': 1.0421008753647354,\n",
       " 'Photo & Video': 4.849242740030569,\n",
       " 'Productivity': 2.473252744198972,\n",
       " 'Reference': 0.8892594136445742,\n",
       " 'Shopping': 1.6951507572599693,\n",
       " 'Social Networking': 2.3204112824788106,\n",
       " 'Sports': 1.5839933305543976,\n",
       " 'Travel': 1.1254689453939142,\n",
       " 'Utilities': 3.4458802278727245,\n",
       " 'Weather': 1.0004168403501459}"
      ]
     },
     "execution_count": 50,
     "metadata": {},
     "output_type": "execute_result"
    }
   ],
   "source": [
    "freq_table(ios_list, 11)"
   ]
  },
  {
   "cell_type": "markdown",
   "metadata": {},
   "source": [
    "## Most Popular Apps by Genre in App Store\n",
    "\n",
    "Social media apps get 45k ratings per app on average. Music comes in second with 28k.\n"
   ]
  },
  {
   "cell_type": "code",
   "execution_count": 58,
   "metadata": {
    "collapsed": false
   },
   "outputs": [
    {
     "name": "stdout",
     "output_type": "stream",
     "text": [
      "Finance : 11047.653846153846\n",
      "Travel : 14129.444444444445\n",
      "Health & Fitness : 9913.172222222222\n",
      "Business : 4788.087719298245\n",
      "Book : 5125.4375\n",
      "Social Networking : 45498.89820359281\n",
      "Weather : 22181.027777777777\n",
      "Medical : 592.7826086956521\n",
      "Shopping : 18615.32786885246\n",
      "Games : 13691.996633868463\n",
      "Productivity : 8051.3258426966295\n",
      "Utilities : 6863.822580645161\n",
      "Education : 2239.2295805739514\n",
      "Entertainment : 7533.678504672897\n",
      "Sports : 14026.929824561403\n",
      "Navigation : 11853.95652173913\n",
      "Music : 28842.021739130436\n",
      "Photo & Video : 14352.280802292264\n",
      "Food & Drink : 13938.619047619048\n",
      "Reference : 22410.84375\n",
      "Catalogs : 1732.5\n",
      "News : 13015.066666666668\n",
      "Lifestyle : 6161.763888888889\n"
     ]
    }
   ],
   "source": [
    "prime_genre_freq = freq_table(ios_list, 11)\n",
    "\n",
    "for genre in prime_genre_freq:\n",
    "    total = 0\n",
    "    len_genre = 0\n",
    "    \n",
    "    for row in ios_list:\n",
    "        genre_app = row[11]\n",
    "        \n",
    "        if genre_app == genre:\n",
    "            ratings = float(row[5])\n",
    "            total += ratings\n",
    "            len_genre += 1\n",
    "\n",
    "    avg_ratings = total / len_genre\n",
    "    print(genre, ':', avg_ratings)            "
   ]
  },
  {
   "cell_type": "code",
   "execution_count": 52,
   "metadata": {
    "collapsed": false
   },
   "outputs": [
    {
     "name": "stdout",
     "output_type": "stream",
     "text": [
      "['App', 'Category', 'Rating', 'Reviews', 'Size', 'Installs', 'Type', 'Price', 'Content Rating', 'Genres', 'Last Updated', 'Current Ver', 'Android Ver']\n"
     ]
    }
   ],
   "source": [
    "print(play_header)"
   ]
  },
  {
   "cell_type": "markdown",
   "metadata": {},
   "source": [
    "## Most Popular Apps by Genre in Play Store"
   ]
  },
  {
   "cell_type": "code",
   "execution_count": 53,
   "metadata": {
    "collapsed": false
   },
   "outputs": [
    {
     "name": "stdout",
     "output_type": "stream",
     "text": [
      "FAMILY\n",
      "208025.5223123732\n",
      "EDUCATION\n",
      "253819.14102564103\n",
      "SOCIAL\n",
      "2105903.125423729\n",
      "NEWS_AND_MAGAZINES\n",
      "192229.19787985866\n",
      "ART_AND_DESIGN\n",
      "26376.0\n",
      "PRODUCTIVITY\n",
      "269143.80896226416\n",
      "PHOTOGRAPHY\n",
      "637363.1343283582\n",
      "GAME\n",
      "1385858.6966783216\n",
      "FOOD_AND_DRINK\n",
      "69947.48031496063\n",
      "DATING\n",
      "31159.30769230769\n",
      "WEATHER\n",
      "178106.5243902439\n",
      "PERSONALIZATION\n",
      "227923.82653061225\n",
      "MEDICAL\n",
      "3425.4319654427645\n",
      "LIBRARIES_AND_DEMO\n",
      "12201.388235294118\n",
      "VIDEO_PLAYERS\n",
      "630743.9314285715\n",
      "PARENTING\n",
      "15972.183333333332\n",
      "MAPS_AND_NAVIGATION\n",
      "223790.17518248176\n",
      "EVENTS\n",
      "2515.90625\n",
      "LIFESTYLE\n",
      "33724.56544502618\n",
      "BUSINESS\n",
      "30335.982608695653\n",
      "AUTO_AND_VEHICLES\n",
      "13690.188235294117\n",
      "COMICS\n",
      "56387.933333333334\n",
      "TOOLS\n",
      "324062.9228944247\n",
      "HEALTH_AND_FITNESS\n",
      "111125.34604105572\n",
      "SHOPPING\n",
      "442466.23846153845\n",
      "FINANCE\n",
      "47952.8087431694\n",
      "ENTERTAINMENT\n",
      "397168.8187919463\n",
      "TRAVEL_AND_LOCAL\n",
      "242705.11240310076\n",
      "BOOKS_AND_REFERENCE\n",
      "95060.90476190476\n",
      "HOUSE_AND_HOME\n",
      "45186.193181818184\n",
      "BEAUTY\n",
      "7476.226415094339\n",
      "COMMUNICATION\n",
      "2107137.622739018\n",
      "SPORTS\n",
      "184453.56510416666\n"
     ]
    }
   ],
   "source": [
    "prime_genre_freq = freq_table(play_list, 1)\n",
    "\n",
    "for genre in prime_genre_freq:\n",
    "    total = 0\n",
    "    len_genre = 0\n",
    "    \n",
    "    for row in play_list:\n",
    "        genre_app = row[1]\n",
    "        \n",
    "        if genre_app == genre:\n",
    "            ratings = float(row[3])\n",
    "            total += ratings\n",
    "            len_genre += 1\n",
    "\n",
    "    avg_ratings = total / len_genre\n",
    "    print(genre)            \n",
    "    print(avg_ratings)\n"
   ]
  },
  {
   "cell_type": "code",
   "execution_count": 54,
   "metadata": {
    "collapsed": false,
    "scrolled": true
   },
   "outputs": [
    {
     "name": "stdout",
     "output_type": "stream",
     "text": [
      "FAMILY\n",
      "5201959.181034483\n",
      "EDUCATION\n",
      "5586230.769230769\n",
      "SOCIAL\n",
      "47694467.46440678\n",
      "NEWS_AND_MAGAZINES\n",
      "26488755.335689045\n",
      "ART_AND_DESIGN\n",
      "1912893.8461538462\n",
      "PRODUCTIVITY\n",
      "33434177.75707547\n",
      "PHOTOGRAPHY\n",
      "30114172.10447761\n",
      "GAME\n",
      "30669601.761363637\n",
      "FOOD_AND_DRINK\n",
      "2156683.0787401577\n",
      "DATING\n",
      "1129533.3632478632\n",
      "WEATHER\n",
      "5196347.804878049\n",
      "PERSONALIZATION\n",
      "5932384.647959184\n",
      "MEDICAL\n",
      "115026.86177105832\n",
      "LIBRARIES_AND_DEMO\n",
      "741128.3529411765\n",
      "VIDEO_PLAYERS\n",
      "35554301.25714286\n",
      "PARENTING\n",
      "525351.8333333334\n",
      "MAPS_AND_NAVIGATION\n",
      "5286729.124087592\n",
      "EVENTS\n",
      "249580.640625\n",
      "LIFESTYLE\n",
      "1407443.8193717278\n",
      "BUSINESS\n",
      "2178075.7934782607\n",
      "AUTO_AND_VEHICLES\n",
      "625061.305882353\n",
      "COMICS\n",
      "934769.1666666666\n",
      "TOOLS\n",
      "13585731.809015421\n",
      "HEALTH_AND_FITNESS\n",
      "4642441.3841642225\n",
      "SHOPPING\n",
      "12491726.096153846\n",
      "FINANCE\n",
      "2395215.120218579\n",
      "ENTERTAINMENT\n",
      "19256107.382550336\n",
      "TRAVEL_AND_LOCAL\n",
      "26623593.58914729\n",
      "BOOKS_AND_REFERENCE\n",
      "8318050.112554112\n",
      "HOUSE_AND_HOME\n",
      "1917187.0568181819\n",
      "BEAUTY\n",
      "513151.88679245283\n",
      "COMMUNICATION\n",
      "84359886.95348836\n",
      "SPORTS\n",
      "4560350.255208333\n"
     ]
    }
   ],
   "source": [
    "prime_cat_freq = freq_table(play_list, 1)\n",
    "\n",
    "for category in prime_cat_freq:\n",
    "    total = 0\n",
    "    len_category = 0\n",
    "    \n",
    "    for row in play_list:\n",
    "        category_app = row[1]\n",
    "        \n",
    "        if category_app == category:\n",
    "            installs = row[5]\n",
    "            installs = installs.replace('+', '')\n",
    "            installs = installs.replace(',', '')\n",
    "            installs = float(installs)\n",
    "            total += installs\n",
    "            len_category += 1\n",
    "    \n",
    "    avg_cat = total / len_category\n",
    "    print(category)\n",
    "    print(avg_cat)"
   ]
  }
 ],
 "metadata": {
  "kernelspec": {
   "display_name": "Python 3",
   "language": "python",
   "name": "python3"
  },
  "language_info": {
   "codemirror_mode": {
    "name": "ipython",
    "version": 3
   },
   "file_extension": ".py",
   "mimetype": "text/x-python",
   "name": "python",
   "nbconvert_exporter": "python",
   "pygments_lexer": "ipython3",
   "version": "3.4.3"
  }
 },
 "nbformat": 4,
 "nbformat_minor": 2
}
